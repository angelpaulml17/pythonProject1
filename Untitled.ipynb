{
 "cells": [
  {
   "cell_type": "code",
   "execution_count": 1,
   "id": "407a0435",
   "metadata": {},
   "outputs": [
    {
     "name": "stdout",
     "output_type": "stream",
     "text": [
      " * Serving Flask app \"__main__\" (lazy loading)\n",
      " * Environment: production\n",
      "\u001b[31m   WARNING: This is a development server. Do not use it in a production deployment.\u001b[0m\n",
      "\u001b[2m   Use a production WSGI server instead.\u001b[0m\n",
      " * Debug mode: on\n"
     ]
    },
    {
     "name": "stderr",
     "output_type": "stream",
     "text": [
      " * Restarting with watchdog (windowsapi)\n"
     ]
    },
    {
     "ename": "SystemExit",
     "evalue": "1",
     "output_type": "error",
     "traceback": [
      "An exception has occurred, use %tb to see the full traceback.\n",
      "\u001b[1;31mSystemExit\u001b[0m\u001b[1;31m:\u001b[0m 1\n"
     ]
    },
    {
     "name": "stderr",
     "output_type": "stream",
     "text": [
      "C:\\Users\\angel_paul\\Anaconda3\\lib\\site-packages\\IPython\\core\\interactiveshell.py:3377: UserWarning: To exit: use 'exit', 'quit', or Ctrl-D.\n",
      "  warn(\"To exit: use 'exit', 'quit', or Ctrl-D.\", stacklevel=1)\n"
     ]
    }
   ],
   "source": [
    "# (A) INIT\n",
    "# (A1) LOAD MODULES\n",
    "import itertools\n",
    "\n",
    "from flask import Flask, render_template, request, make_response, json\n",
    "from openpyxl import load_workbook\n",
    "import pyodbc\n",
    "import pandas as pd\n",
    "cnxn=pyodbc.connect('Driver={SQL Server};Server=10.174.98.220;Database=IP_ANALYTICS;Trusted_Connection=yes')\n",
    "cursor=cnxn.cursor()\n",
    "cursor.execute('select transaction_data_source,major_account_id,major_account_name,cost_center,set_of_books_name,invoice_number,invoice_description,invoice_date , invoice_source,spend_usd,po_number,po_description,paid_date, spend_category_id,spend_category_L1,spend_category_L2,spend_category_L3,supplier_number,supplier_name,parent_supplier,mopm,COMMODITY_TYPE,Fiscal_Month,Fiscal_Quartr,Fiscal_Year, L1_CLASSIFICATION , L2_CLASSIFICATION , L3_CLASSIFICATION from dbo.unified_spend where fiscal_month =\\'M04: MayFY23\\'')\n",
    "records=cursor.fetchall()\n",
    "#print(records)\n",
    "# (A2) FLASK SETTINGS + INIT\n",
    "HOST_NAME = \"127.0.0.1\"\n",
    "HOST_PORT = 5000\n",
    "app = Flask(__name__)\n",
    "\n",
    "\n",
    "# app.debug = True\n",
    "\n",
    "# (B) DEMO - READ EXCEL & GENERATE HTML TABLE\n",
    "@app.route(\"/\")\n",
    "def index():\n",
    "    # (B1) OPEN EXCEL FILE + WORKSHEET\n",
    "    # book = load_workbook(\"cfs_trial.xlsx\")\n",
    "    # sheet = book.active\n",
    "    # print(sheet)\n",
    "    # (B2) PASS INTO HTML TEMPLATE\n",
    "    cursor1 = cnxn.cursor()\n",
    "    cursor1.execute('select distinct new_l1, new_l2, new_l3 from dbo.l_dell_rules_latest2 ')\n",
    "    portfolios = cursor1.fetchall()\n",
    "    #print(list(portfolios))\n",
    "    # id_list = []\n",
    "    # for index in range(len(portfolios)):\n",
    "    #     id_list.append(portfolios[index][0])\n",
    "    ans=list(itertools.chain.from_iterable(portfolios))\n",
    "    res=[]\n",
    "\n",
    "    for j in range(0, len(ans), 3):\n",
    "        res2=[]\n",
    "        for i in range(0,3, 1):\n",
    "            res2.append(ans[j+i])\n",
    "        res.append((res2))\n",
    "    print(len(res))\n",
    "    return render_template(\"trial.html\", records=records, res=res)\n",
    "\n",
    "@app.route(\"/rest\", methods=['POST'])\n",
    "def rest():\n",
    "    output = request.get_json()\n",
    "    print(output)  # This is the output that was stored in the JSON within the browser\n",
    "    print(type(output))\n",
    "    result = json.loads(output)  # this converts the json output to a python dictionary\n",
    "    print(result)  # Printing the new dictionary\n",
    "    print(type(result))  # this shows the json converted as a python dictionary\n",
    "    str=\"\"\n",
    "    for key in result:\n",
    "        inner=\"\"\n",
    "        # inner=key+\"=\\\"\"+result[key]+\"\\\" and \"\n",
    "        # print(inner)\n",
    "        str+=key+\"=\\'\"+result[key]+\"\\' and \"\n",
    "    # print(str.removesuffix(\"and\"))\n",
    "    sstring=\"and\"\n",
    "    reso=''\n",
    "    # if str.endswith(sstring):\n",
    "    #     reso = str[:-(len(sstring))]\n",
    "    print(str[:-(len(\"and\")+1)])\n",
    "    reso=str[:-(len(\"and\")+1)]\n",
    "    print(reso)\n",
    "    cursor2 = cnxn.cursor()\n",
    "    query='select sum(spend_usd) from dbo.unified_spend where '+ reso\n",
    "    print (query)\n",
    "    cursor2.execute(query)\n",
    "    spend = cursor2.fetchall()\n",
    "    sp=[float(d[0]) for d in spend]\n",
    "    # print(sp)\n",
    "    #print(int(spend[0]))\n",
    "    return json.dumps(sp)\n",
    "\n",
    "\n",
    "if __name__ == \"__main__\":\n",
    "    app.debug = True\n",
    "    app.run(HOST_NAME, HOST_PORT)"
   ]
  },
  {
   "cell_type": "code",
   "execution_count": null,
   "id": "9685f3f8",
   "metadata": {},
   "outputs": [],
   "source": []
  }
 ],
 "metadata": {
  "kernelspec": {
   "display_name": "Python 3 (ipykernel)",
   "language": "python",
   "name": "python3"
  },
  "language_info": {
   "codemirror_mode": {
    "name": "ipython",
    "version": 3
   },
   "file_extension": ".py",
   "mimetype": "text/x-python",
   "name": "python",
   "nbconvert_exporter": "python",
   "pygments_lexer": "ipython3",
   "version": "3.9.12"
  }
 },
 "nbformat": 4,
 "nbformat_minor": 5
}
